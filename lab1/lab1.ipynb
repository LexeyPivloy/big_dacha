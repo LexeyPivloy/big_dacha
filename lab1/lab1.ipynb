{
 "cells": [
  {
   "cell_type": "code",
   "execution_count": 1,
   "id": "6a18cf84-bcd5-4696-a761-504ffd797eff",
   "metadata": {},
   "outputs": [],
   "source": [
    "from pyspark import SparkContext, SparkConf \n",
    "from pyspark.sql import SparkSession\n",
    "import pyspark.sql as sql\n",
    "from pyspark.sql.functions import col"
   ]
  },
  {
   "cell_type": "code",
   "execution_count": 2,
   "id": "8d55b745-c92c-48ba-bc54-557064a6b2cf",
   "metadata": {},
   "outputs": [
    {
     "ename": "NameError",
     "evalue": "name 'sc' is not defined",
     "output_type": "error",
     "traceback": [
      "\u001b[0;31m---------------------------------------------------------------------------\u001b[0m",
      "\u001b[0;31mNameError\u001b[0m                                 Traceback (most recent call last)",
      "\u001b[0;32m<ipython-input-2-8d3513b7698b>\u001b[0m in \u001b[0;36m<module>\u001b[0;34m\u001b[0m\n\u001b[0;32m----> 1\u001b[0;31m \u001b[0msc\u001b[0m\u001b[0;34m.\u001b[0m\u001b[0mstop\u001b[0m\u001b[0;34m(\u001b[0m\u001b[0;34m)\u001b[0m\u001b[0;34m\u001b[0m\u001b[0;34m\u001b[0m\u001b[0m\n\u001b[0m",
      "\u001b[0;31mNameError\u001b[0m: name 'sc' is not defined"
     ]
    }
   ],
   "source": [
    "#sc.stop()"
   ]
  },
  {
   "cell_type": "code",
   "execution_count": null,
   "id": "bb7203f2-786e-44a0-b6ec-39dc03977898",
   "metadata": {},
   "outputs": [],
   "source": [
    "conf = SparkConf().setAppName(\"Lr1\").setMaster('yarn')\n",
    "sc = SparkContext(conf=conf)\n",
    "spark = SparkSession(sc)"
   ]
  },
  {
   "cell_type": "code",
   "execution_count": null,
   "id": "6b83a509-dce8-4b0a-9b84-08532c6a831d",
   "metadata": {},
   "outputs": [],
   "source": [
    "tripData = spark.read\\\n",
    ".option(\"header\", True)\\\n",
    ".option(\"inferSchema\", True)\\\n",
    ".option(\"timestampFormat\", 'M/d/y H:m')\\\n",
    ".csv(\"trips.csv\")\n",
    "\n",
    "tripData.printSchema()\n",
    "\n",
    "stationData = spark.read\\\n",
    ".option(\"header\", True)\\\n",
    ".option(\"inferSchema\", True)\\\n",
    ".option(\"timestampFormat\", 'M/d/y')\\\n",
    ".csv(\"stations.csv\")\n",
    "\n",
    "stationData.printSchema()"
   ]
  },
  {
   "cell_type": "markdown",
   "id": "2fe18b00-ca24-437e-ad5f-214c6aa7f7e2",
   "metadata": {},
   "source": [
    "Задание 1. Найти велосипед с максимальным временем пробега."
   ]
  },
  {
   "cell_type": "code",
   "execution_count": null,
   "id": "bdb5d462-678c-4c63-b55c-499ae05a60d2",
   "metadata": {},
   "outputs": [],
   "source": [
    "tripData.createOrReplaceTempView(\"Trips\")"
   ]
  },
  {
   "cell_type": "code",
   "execution_count": null,
   "id": "668c14ea-6da5-4937-9094-7ed4001e5d97",
   "metadata": {},
   "outputs": [],
   "source": [
    "spark.sql(\"SELECT bike_id, sum(duration) duration\\\n",
    "        FROM Trips\\\n",
    "        GROUP BY bike_id\\\n",
    "        ORDER BY duration DESC\\\n",
    "        LIMIT 1\").show()"
   ]
  },
  {
   "cell_type": "markdown",
   "id": "5cf0aec0-893c-4da6-8746-000788af8ced",
   "metadata": {},
   "source": [
    "Задание 2. Найти наибольшее геодезическое расстояние между станциями."
   ]
  },
  {
   "cell_type": "code",
   "execution_count": null,
   "id": "831da711-a4a0-4d54-b562-83340307e13b",
   "metadata": {},
   "outputs": [],
   "source": [
    "from math import sin, cos, sqrt, atan2, radians\n",
    "\n",
    "def geodesic_Haversine(lat1, lon1, lat2, lon2):\n",
    "    dlon = radians(lon2) - radians(lon1)\n",
    "    dlat = radians(lat2) - radians(lat1)\n",
    "    \n",
    "    # формула Хаверсина\n",
    "    a = sin(dlat / 2)**2 + cos(lat1) * cos(lat2) * sin(dlon / 2)**2\n",
    "    return 6373 * 2 * atan2(sqrt(a), sqrt(1 - a))"
   ]
  },
  {
   "cell_type": "code",
   "execution_count": null,
   "id": "441b8ce6-8b78-4f2e-9ac8-f31ebe43250d",
   "metadata": {},
   "outputs": [],
   "source": [
    "joined_stations = stationData.crossJoin(stationData)\n",
    "joined_stations.printSchema()"
   ]
  },
  {
   "cell_type": "code",
   "execution_count": null,
   "id": "b2f98a8e-663a-4d65-9674-9ccaa6f05963",
   "metadata": {},
   "outputs": [],
   "source": [
    "print(joined_stations.rdd.map(lambda x: geodesic_Haversine(x[2], x[3], x[9], x[10])).max())"
   ]
  },
  {
   "cell_type": "markdown",
   "id": "b12a1536-b3ed-45ad-86d0-fb9c9066bdc9",
   "metadata": {},
   "source": [
    "Задание 3. Найти путь велосипеда с максимальным временем пробега через станции"
   ]
  },
  {
   "cell_type": "code",
   "execution_count": null,
   "id": "e8ed709f-b210-4b62-92ac-67514743d373",
   "metadata": {},
   "outputs": [],
   "source": [
    "filtered_stations = joined_stations.rdd.filter(lambda l: (l[1] == temp[0].start_station_name) and (l[8] == temp[0].end_station_name))\n",
    "\n",
    "print(filtered_stations.map(lambda x: geodesic_Haversine(x[2], x[3], x[9], x[10])).collect())"
   ]
  },
  {
   "cell_type": "markdown",
   "id": "6a43865d-20a8-46d1-a946-0a8f62a10c14",
   "metadata": {},
   "source": [
    "Задание 4 - Найти количество велосипедов в системе"
   ]
  },
  {
   "cell_type": "code",
   "execution_count": null,
   "id": "eb1deaca-1f81-4b1c-b14b-7213a7619ffa",
   "metadata": {},
   "outputs": [],
   "source": [
    "spark.sql(\"SELECT COUNT(DISTINCT bike_id) count\\\n",
    "        FROM Trips\").show()"
   ]
  },
  {
   "cell_type": "markdown",
   "id": "91607104-3a1e-49fd-88a3-cb7a15810719",
   "metadata": {},
   "source": [
    "Задание 5. Найти пользователей потративших на поездки более 3 часов"
   ]
  },
  {
   "cell_type": "code",
   "execution_count": null,
   "id": "d24a2a8a-23a3-4fde-a813-c0c714247955",
   "metadata": {},
   "outputs": [],
   "source": [
    "spark.sql(\"SELECT id, SUM(duration) sum\\\n",
    "        FROM Trips\\\n",
    "        GROUP BY id\\\n",
    "        HAVING sum > 10800\").show()"
   ]
  },
  {
   "cell_type": "code",
   "execution_count": null,
   "id": "9e146e12-1898-4145-b7bb-905c99410092",
   "metadata": {},
   "outputs": [],
   "source": []
  }
 ],
 "metadata": {
  "kernelspec": {
   "display_name": "Python 3",
   "language": "python",
   "name": "python3"
  },
  "language_info": {
   "codemirror_mode": {
    "name": "ipython",
    "version": 3
   },
   "file_extension": ".py",
   "mimetype": "text/x-python",
   "name": "python",
   "nbconvert_exporter": "python",
   "pygments_lexer": "ipython3",
   "version": "3.9.5"
  }
 },
 "nbformat": 4,
 "nbformat_minor": 5
}
